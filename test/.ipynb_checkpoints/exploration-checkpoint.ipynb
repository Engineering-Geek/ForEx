{
 "cells": [
  {
   "cell_type": "code",
   "execution_count": 1,
   "metadata": {},
   "outputs": [],
   "source": [
    "import gym\n",
    "import gym_anytrading\n",
    "from gym_anytrading.envs import TradingEnv, ForexEnv, StocksEnv, Actions, Positions \n",
    "from gym_anytrading.datasets import FOREX_EURUSD_1H_ASK"
   ]
  },
  {
   "cell_type": "code",
   "execution_count": 2,
   "metadata": {},
   "outputs": [],
   "source": [
    "import import_ipynb"
   ]
  },
  {
   "cell_type": "code",
   "execution_count": 3,
   "metadata": {},
   "outputs": [
    {
     "name": "stdout",
     "output_type": "stream",
     "text": [
      "importing Jupyter notebook from Neural_Networks.ipynb\n"
     ]
    },
    {
     "name": "stderr",
     "output_type": "stream",
     "text": [
      "/home/melgiri/PycharmProjects/ForEx_2/venv/lib/python3.6/site-packages/tensorflow/python/framework/dtypes.py:516: FutureWarning: Passing (type, 1) or '1type' as a synonym of type is deprecated; in a future version of numpy, it will be understood as (type, (1,)) / '(1,)type'.\n",
      "  _np_qint8 = np.dtype([(\"qint8\", np.int8, 1)])\n",
      "/home/melgiri/PycharmProjects/ForEx_2/venv/lib/python3.6/site-packages/tensorflow/python/framework/dtypes.py:517: FutureWarning: Passing (type, 1) or '1type' as a synonym of type is deprecated; in a future version of numpy, it will be understood as (type, (1,)) / '(1,)type'.\n",
      "  _np_quint8 = np.dtype([(\"quint8\", np.uint8, 1)])\n",
      "/home/melgiri/PycharmProjects/ForEx_2/venv/lib/python3.6/site-packages/tensorflow/python/framework/dtypes.py:518: FutureWarning: Passing (type, 1) or '1type' as a synonym of type is deprecated; in a future version of numpy, it will be understood as (type, (1,)) / '(1,)type'.\n",
      "  _np_qint16 = np.dtype([(\"qint16\", np.int16, 1)])\n",
      "/home/melgiri/PycharmProjects/ForEx_2/venv/lib/python3.6/site-packages/tensorflow/python/framework/dtypes.py:519: FutureWarning: Passing (type, 1) or '1type' as a synonym of type is deprecated; in a future version of numpy, it will be understood as (type, (1,)) / '(1,)type'.\n",
      "  _np_quint16 = np.dtype([(\"quint16\", np.uint16, 1)])\n",
      "/home/melgiri/PycharmProjects/ForEx_2/venv/lib/python3.6/site-packages/tensorflow/python/framework/dtypes.py:520: FutureWarning: Passing (type, 1) or '1type' as a synonym of type is deprecated; in a future version of numpy, it will be understood as (type, (1,)) / '(1,)type'.\n",
      "  _np_qint32 = np.dtype([(\"qint32\", np.int32, 1)])\n",
      "/home/melgiri/PycharmProjects/ForEx_2/venv/lib/python3.6/site-packages/tensorflow/python/framework/dtypes.py:525: FutureWarning: Passing (type, 1) or '1type' as a synonym of type is deprecated; in a future version of numpy, it will be understood as (type, (1,)) / '(1,)type'.\n",
      "  np_resource = np.dtype([(\"resource\", np.ubyte, 1)])\n",
      "/home/melgiri/PycharmProjects/ForEx_2/venv/lib/python3.6/site-packages/tensorboard/compat/tensorflow_stub/dtypes.py:541: FutureWarning: Passing (type, 1) or '1type' as a synonym of type is deprecated; in a future version of numpy, it will be understood as (type, (1,)) / '(1,)type'.\n",
      "  _np_qint8 = np.dtype([(\"qint8\", np.int8, 1)])\n",
      "/home/melgiri/PycharmProjects/ForEx_2/venv/lib/python3.6/site-packages/tensorboard/compat/tensorflow_stub/dtypes.py:542: FutureWarning: Passing (type, 1) or '1type' as a synonym of type is deprecated; in a future version of numpy, it will be understood as (type, (1,)) / '(1,)type'.\n",
      "  _np_quint8 = np.dtype([(\"quint8\", np.uint8, 1)])\n",
      "/home/melgiri/PycharmProjects/ForEx_2/venv/lib/python3.6/site-packages/tensorboard/compat/tensorflow_stub/dtypes.py:543: FutureWarning: Passing (type, 1) or '1type' as a synonym of type is deprecated; in a future version of numpy, it will be understood as (type, (1,)) / '(1,)type'.\n",
      "  _np_qint16 = np.dtype([(\"qint16\", np.int16, 1)])\n",
      "/home/melgiri/PycharmProjects/ForEx_2/venv/lib/python3.6/site-packages/tensorboard/compat/tensorflow_stub/dtypes.py:544: FutureWarning: Passing (type, 1) or '1type' as a synonym of type is deprecated; in a future version of numpy, it will be understood as (type, (1,)) / '(1,)type'.\n",
      "  _np_quint16 = np.dtype([(\"quint16\", np.uint16, 1)])\n",
      "/home/melgiri/PycharmProjects/ForEx_2/venv/lib/python3.6/site-packages/tensorboard/compat/tensorflow_stub/dtypes.py:545: FutureWarning: Passing (type, 1) or '1type' as a synonym of type is deprecated; in a future version of numpy, it will be understood as (type, (1,)) / '(1,)type'.\n",
      "  _np_qint32 = np.dtype([(\"qint32\", np.int32, 1)])\n",
      "/home/melgiri/PycharmProjects/ForEx_2/venv/lib/python3.6/site-packages/tensorboard/compat/tensorflow_stub/dtypes.py:550: FutureWarning: Passing (type, 1) or '1type' as a synonym of type is deprecated; in a future version of numpy, it will be understood as (type, (1,)) / '(1,)type'.\n",
      "  np_resource = np.dtype([(\"resource\", np.ubyte, 1)])\n"
     ]
    }
   ],
   "source": [
    "from Neural_Networks import *"
   ]
  },
  {
   "cell_type": "code",
   "execution_count": 4,
   "metadata": {},
   "outputs": [
    {
     "name": "stderr",
     "output_type": "stream",
     "text": [
      "/home/melgiri/PycharmProjects/ForEx_2/venv/lib/python3.6/site-packages/gym/logger.py:30: UserWarning: \u001b[33mWARN: Box bound precision lowered by casting to float32\u001b[0m\n",
      "  warnings.warn(colorize('%s: %s'%('WARN', msg % args), 'yellow'))\n"
     ]
    }
   ],
   "source": [
    "import gym\n",
    "import gym_anytrading\n",
    "from gym_anytrading.envs import TradingEnv, ForexEnv, StocksEnv, Actions, Positions \n",
    "from gym_anytrading.datasets import FOREX_EURUSD_1H_ASK, STOCKS_GOOGL\n",
    "import matplotlib.pyplot as plt\n",
    "\n",
    "env = gym.make('forex-v0', df=FOREX_EURUSD_1H_ASK, window_size=12, frame_bound=(12, len(FOREX_EURUSD_1H_ASK)))\n",
    "model = NeuralNetwork_Simple(input_size=env.observation_space.shape, output_size=env.action_space.n).model\n",
    "model.build((1,) + env.observation_space.shape)"
   ]
  },
  {
   "cell_type": "code",
   "execution_count": 5,
   "metadata": {},
   "outputs": [
    {
     "name": "stdout",
     "output_type": "stream",
     "text": [
      "Training for 60000 steps ...\n",
      "Interval 1 (0 steps performed)\n",
      "10000/10000 [==============================] - 5s 508us/step - reward: -0.0105\n",
      "1 episodes - episode_reward: -57.100 [-57.100, -57.100] - total_reward: 10.125 - total_profit: 0.824 - position: 0.620\n",
      "\n",
      "Interval 2 (10000 steps performed)\n",
      "10000/10000 [==============================] - 5s 518us/step - reward: 0.1431\n",
      "2 episodes - episode_reward: 436.500 [300.400, 572.600] - total_reward: 151.863 - total_profit: 0.794 - position: 0.570\n",
      "\n",
      "Interval 3 (20000 steps performed)\n",
      "10000/10000 [==============================] - 5s 509us/step - reward: -0.0978\n",
      "1 episodes - episode_reward: -575.700 [-575.700, -575.700] - total_reward: 256.255 - total_profit: 0.791 - position: 0.461\n",
      "\n",
      "Interval 4 (30000 steps performed)\n",
      "10000/10000 [==============================] - 5s 502us/step - reward: -0.1824\n",
      "2 episodes - episode_reward: -520.500 [-1225.700, 184.700] - total_reward: -442.694 - total_profit: 0.792 - position: 0.578\n",
      "\n",
      "Interval 5 (40000 steps performed)\n",
      "10000/10000 [==============================] - 5s 505us/step - reward: 0.2208\n",
      "2 episodes - episode_reward: 822.650 [416.500, 1228.800] - total_reward: 294.604 - total_profit: 0.786 - position: 0.564\n",
      "\n",
      "Interval 6 (50000 steps performed)\n",
      "10000/10000 [==============================] - 5s 507us/step - reward: -0.1029\n",
      "done, took 30.549 seconds\n"
     ]
    }
   ],
   "source": [
    "from rl.agents.cem import CEMAgent\n",
    "from rl.memory import EpisodeParameterMemory\n",
    "from rl.policy import EpsGreedyQPolicy\n",
    "from tensorflow.keras.optimizers import Adam\n",
    "memory = EpisodeParameterMemory(limit=200, window_length=1)\n",
    "nb_actions = env.action_space.n\n",
    "\n",
    "agent = CEMAgent(model=model, nb_actions=nb_actions, memory=memory, nb_steps_warmup=10000)\n",
    "agent.compile()\n",
    "agent.fit(env, nb_steps = 60000, visualize = False, verbose = 1)\n",
    "agent.save_weights('cem_weights.h5f', overwrite=True)"
   ]
  },
  {
   "cell_type": "code",
   "execution_count": 6,
   "metadata": {},
   "outputs": [
    {
     "name": "stdout",
     "output_type": "stream",
     "text": [
      "Model: \"model\"\n",
      "_________________________________________________________________\n",
      "Layer (type)                 Output Shape              Param #   \n",
      "=================================================================\n",
      "input_1 (InputLayer)         [(None, 1, 12, 2)]        0         \n",
      "_________________________________________________________________\n",
      "flatten (Flatten)            (None, 24)                0         \n",
      "_________________________________________________________________\n",
      "dense (Dense)                (None, 2)                 50        \n",
      "=================================================================\n",
      "Total params: 50\n",
      "Trainable params: 50\n",
      "Non-trainable params: 0\n",
      "_________________________________________________________________\n"
     ]
    }
   ],
   "source": [
    "model.summary()"
   ]
  },
  {
   "cell_type": "code",
   "execution_count": 16,
   "metadata": {},
   "outputs": [],
   "source": [
    "from tqdm import tqdm"
   ]
  },
  {
   "cell_type": "code",
   "execution_count": 19,
   "metadata": {},
   "outputs": [
    {
     "name": "stderr",
     "output_type": "stream",
     "text": [
      "100%|██████████| 20000/20000 [00:07<00:00, 2642.17it/s]\n"
     ]
    }
   ],
   "source": [
    "observation = env.reset()\n",
    "total_reward = 0.0              # Reward is the profit realized when a trade closes\n",
    "for i in tqdm(range(20000)):\n",
    "    action = agent.forward(observation)\n",
    "    observation, reward, done, info = env.step(action)\n",
    "    total_reward += reward\n",
    "    if done:\n",
    "        observation = env.reset()"
   ]
  },
  {
   "cell_type": "code",
   "execution_count": 21,
   "metadata": {},
   "outputs": [
    {
     "name": "stdout",
     "output_type": "stream",
     "text": [
      "-2.6999999999977042\n"
     ]
    }
   ],
   "source": [
    "print(reward)"
   ]
  },
  {
   "cell_type": "code",
   "execution_count": 22,
   "metadata": {},
   "outputs": [
    {
     "data": {
      "text/html": [
       "<div>\n",
       "<style scoped>\n",
       "    .dataframe tbody tr th:only-of-type {\n",
       "        vertical-align: middle;\n",
       "    }\n",
       "\n",
       "    .dataframe tbody tr th {\n",
       "        vertical-align: top;\n",
       "    }\n",
       "\n",
       "    .dataframe thead th {\n",
       "        text-align: right;\n",
       "    }\n",
       "</style>\n",
       "<table border=\"1\" class=\"dataframe\">\n",
       "  <thead>\n",
       "    <tr style=\"text-align: right;\">\n",
       "      <th></th>\n",
       "      <th>Open</th>\n",
       "      <th>High</th>\n",
       "      <th>Low</th>\n",
       "      <th>Close</th>\n",
       "      <th>Volume</th>\n",
       "    </tr>\n",
       "    <tr>\n",
       "      <th>Time</th>\n",
       "      <th></th>\n",
       "      <th></th>\n",
       "      <th></th>\n",
       "      <th></th>\n",
       "      <th></th>\n",
       "    </tr>\n",
       "  </thead>\n",
       "  <tbody>\n",
       "    <tr>\n",
       "      <th>01.01.2017 22:00:00.000</th>\n",
       "      <td>1.05236</td>\n",
       "      <td>1.05253</td>\n",
       "      <td>1.05221</td>\n",
       "      <td>1.05227</td>\n",
       "      <td>143539993.3</td>\n",
       "    </tr>\n",
       "    <tr>\n",
       "      <th>01.01.2017 23:00:00.000</th>\n",
       "      <td>1.05227</td>\n",
       "      <td>1.05426</td>\n",
       "      <td>1.05226</td>\n",
       "      <td>1.05282</td>\n",
       "      <td>253139999.4</td>\n",
       "    </tr>\n",
       "    <tr>\n",
       "      <th>02.01.2017 00:00:00.000</th>\n",
       "      <td>1.05283</td>\n",
       "      <td>1.05283</td>\n",
       "      <td>1.05268</td>\n",
       "      <td>1.05281</td>\n",
       "      <td>131399993.9</td>\n",
       "    </tr>\n",
       "    <tr>\n",
       "      <th>02.01.2017 01:00:00.000</th>\n",
       "      <td>1.05282</td>\n",
       "      <td>1.05286</td>\n",
       "      <td>1.05225</td>\n",
       "      <td>1.05240</td>\n",
       "      <td>273940002.4</td>\n",
       "    </tr>\n",
       "    <tr>\n",
       "      <th>02.01.2017 02:00:00.000</th>\n",
       "      <td>1.05239</td>\n",
       "      <td>1.05240</td>\n",
       "      <td>1.05164</td>\n",
       "      <td>1.05220</td>\n",
       "      <td>258140014.6</td>\n",
       "    </tr>\n",
       "  </tbody>\n",
       "</table>\n",
       "</div>"
      ],
      "text/plain": [
       "                            Open     High      Low    Close       Volume\n",
       "Time                                                                    \n",
       "01.01.2017 22:00:00.000  1.05236  1.05253  1.05221  1.05227  143539993.3\n",
       "01.01.2017 23:00:00.000  1.05227  1.05426  1.05226  1.05282  253139999.4\n",
       "02.01.2017 00:00:00.000  1.05283  1.05283  1.05268  1.05281  131399993.9\n",
       "02.01.2017 01:00:00.000  1.05282  1.05286  1.05225  1.05240  273940002.4\n",
       "02.01.2017 02:00:00.000  1.05239  1.05240  1.05164  1.05220  258140014.6"
      ]
     },
     "execution_count": 22,
     "metadata": {},
     "output_type": "execute_result"
    }
   ],
   "source": [
    "FOREX_EURUSD_1H_ASK.head()"
   ]
  },
  {
   "cell_type": "code",
   "execution_count": 23,
   "metadata": {},
   "outputs": [],
   "source": [
    "import pandas as pd"
   ]
  },
  {
   "cell_type": "code",
   "execution_count": 24,
   "metadata": {},
   "outputs": [],
   "source": [
    "df = pd.read_pickle(\"/media/melgiri/Storage/Data/markets/CADJPY.pkl\")"
   ]
  },
  {
   "cell_type": "code",
   "execution_count": 25,
   "metadata": {},
   "outputs": [
    {
     "data": {
      "text/html": [
       "<div>\n",
       "<style scoped>\n",
       "    .dataframe tbody tr th:only-of-type {\n",
       "        vertical-align: middle;\n",
       "    }\n",
       "\n",
       "    .dataframe tbody tr th {\n",
       "        vertical-align: top;\n",
       "    }\n",
       "\n",
       "    .dataframe thead th {\n",
       "        text-align: right;\n",
       "    }\n",
       "</style>\n",
       "<table border=\"1\" class=\"dataframe\">\n",
       "  <thead>\n",
       "    <tr style=\"text-align: right;\">\n",
       "      <th></th>\n",
       "      <th>time</th>\n",
       "      <th>bid</th>\n",
       "      <th>ask</th>\n",
       "      <th>last</th>\n",
       "      <th>volume</th>\n",
       "      <th>time_msc</th>\n",
       "      <th>flags</th>\n",
       "      <th>volume_real</th>\n",
       "    </tr>\n",
       "  </thead>\n",
       "  <tbody>\n",
       "    <tr>\n",
       "      <th>0</th>\n",
       "      <td>2018-12-11 11:00:00</td>\n",
       "      <td>84.548</td>\n",
       "      <td>84.572</td>\n",
       "      <td>0.0</td>\n",
       "      <td>0</td>\n",
       "      <td>1544544000039</td>\n",
       "      <td>130</td>\n",
       "      <td>0.0</td>\n",
       "    </tr>\n",
       "    <tr>\n",
       "      <th>1</th>\n",
       "      <td>2018-12-11 11:00:00</td>\n",
       "      <td>84.549</td>\n",
       "      <td>84.572</td>\n",
       "      <td>0.0</td>\n",
       "      <td>0</td>\n",
       "      <td>1544544000094</td>\n",
       "      <td>130</td>\n",
       "      <td>0.0</td>\n",
       "    </tr>\n",
       "    <tr>\n",
       "      <th>2</th>\n",
       "      <td>2018-12-11 11:00:00</td>\n",
       "      <td>84.550</td>\n",
       "      <td>84.574</td>\n",
       "      <td>0.0</td>\n",
       "      <td>0</td>\n",
       "      <td>1544544000147</td>\n",
       "      <td>134</td>\n",
       "      <td>0.0</td>\n",
       "    </tr>\n",
       "    <tr>\n",
       "      <th>3</th>\n",
       "      <td>2018-12-11 11:00:00</td>\n",
       "      <td>84.551</td>\n",
       "      <td>84.575</td>\n",
       "      <td>0.0</td>\n",
       "      <td>0</td>\n",
       "      <td>1544544000234</td>\n",
       "      <td>134</td>\n",
       "      <td>0.0</td>\n",
       "    </tr>\n",
       "    <tr>\n",
       "      <th>4</th>\n",
       "      <td>2018-12-11 11:00:00</td>\n",
       "      <td>84.552</td>\n",
       "      <td>84.575</td>\n",
       "      <td>0.0</td>\n",
       "      <td>0</td>\n",
       "      <td>1544544000784</td>\n",
       "      <td>130</td>\n",
       "      <td>0.0</td>\n",
       "    </tr>\n",
       "  </tbody>\n",
       "</table>\n",
       "</div>"
      ],
      "text/plain": [
       "                 time     bid     ask  last  volume       time_msc  flags  \\\n",
       "0 2018-12-11 11:00:00  84.548  84.572   0.0       0  1544544000039    130   \n",
       "1 2018-12-11 11:00:00  84.549  84.572   0.0       0  1544544000094    130   \n",
       "2 2018-12-11 11:00:00  84.550  84.574   0.0       0  1544544000147    134   \n",
       "3 2018-12-11 11:00:00  84.551  84.575   0.0       0  1544544000234    134   \n",
       "4 2018-12-11 11:00:00  84.552  84.575   0.0       0  1544544000784    130   \n",
       "\n",
       "   volume_real  \n",
       "0          0.0  \n",
       "1          0.0  \n",
       "2          0.0  \n",
       "3          0.0  \n",
       "4          0.0  "
      ]
     },
     "execution_count": 25,
     "metadata": {},
     "output_type": "execute_result"
    }
   ],
   "source": [
    "df.head()"
   ]
  },
  {
   "cell_type": "code",
   "execution_count": 26,
   "metadata": {},
   "outputs": [
    {
     "data": {
      "text/plain": [
       "24813694"
      ]
     },
     "execution_count": 26,
     "metadata": {},
     "output_type": "execute_result"
    }
   ],
   "source": [
    "len(df)"
   ]
  },
  {
   "cell_type": "code",
   "execution_count": 28,
   "metadata": {},
   "outputs": [],
   "source": [
    "time_col = df[\"time_msc\"]"
   ]
  },
  {
   "cell_type": "code",
   "execution_count": 29,
   "metadata": {},
   "outputs": [
    {
     "data": {
      "text/plain": [
       "0           1544544000039\n",
       "1           1544544000094\n",
       "2           1544544000147\n",
       "3           1544544000234\n",
       "4           1544544000784\n",
       "                ...      \n",
       "24813689    1581437096503\n",
       "24813690    1581437096696\n",
       "24813691    1581437096894\n",
       "24813692    1581437098504\n",
       "24813693    1581437099208\n",
       "Name: time_msc, Length: 24813694, dtype: int64"
      ]
     },
     "execution_count": 29,
     "metadata": {},
     "output_type": "execute_result"
    }
   ],
   "source": [
    "time_col"
   ]
  },
  {
   "cell_type": "code",
   "execution_count": 30,
   "metadata": {},
   "outputs": [
    {
     "data": {
      "text/plain": [
       "numpy.int64"
      ]
     },
     "execution_count": 30,
     "metadata": {},
     "output_type": "execute_result"
    }
   ],
   "source": [
    "type(time_col[0])"
   ]
  },
  {
   "cell_type": "code",
   "execution_count": 32,
   "metadata": {},
   "outputs": [],
   "source": [
    "df.index = pd.to_datetime(time_col)"
   ]
  },
  {
   "cell_type": "code",
   "execution_count": 40,
   "metadata": {},
   "outputs": [
    {
     "data": {
      "text/plain": [
       "0.0"
      ]
     },
     "execution_count": 40,
     "metadata": {},
     "output_type": "execute_result"
    }
   ],
   "source": [
    "max(df[\"volume_real\"])"
   ]
  },
  {
   "cell_type": "code",
   "execution_count": 37,
   "metadata": {},
   "outputs": [
    {
     "data": {
      "text/plain": [
       "0   2018-12-11 11:00:00\n",
       "1   2018-12-11 11:01:00\n",
       "2   2018-12-11 11:02:00\n",
       "3   2018-12-11 11:03:00\n",
       "4   2018-12-11 11:04:00\n",
       "Name: time, dtype: datetime64[ns]"
      ]
     },
     "execution_count": 37,
     "metadata": {},
     "output_type": "execute_result"
    }
   ],
   "source": [
    "df1 = df.groupby(pd.Grouper(freq='1 min', key='time'))['time'].first().reset_index(drop=True)\n",
    "df1.head()"
   ]
  },
  {
   "cell_type": "code",
   "execution_count": 38,
   "metadata": {},
   "outputs": [
    {
     "data": {
      "text/plain": [
       "614885"
      ]
     },
     "execution_count": 38,
     "metadata": {},
     "output_type": "execute_result"
    }
   ],
   "source": [
    "len(df1)"
   ]
  },
  {
   "cell_type": "code",
   "execution_count": null,
   "metadata": {},
   "outputs": [],
   "source": []
  }
 ],
 "metadata": {
  "kernelspec": {
   "display_name": "Python 3",
   "language": "python",
   "name": "python3"
  },
  "language_info": {
   "codemirror_mode": {
    "name": "ipython",
    "version": 3
   },
   "file_extension": ".py",
   "mimetype": "text/x-python",
   "name": "python",
   "nbconvert_exporter": "python",
   "pygments_lexer": "ipython3",
   "version": "3.6.9"
  }
 },
 "nbformat": 4,
 "nbformat_minor": 4
}
