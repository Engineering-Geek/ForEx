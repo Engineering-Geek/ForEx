{
 "cells": [
  {
   "cell_type": "code",
   "execution_count": 3,
   "metadata": {},
   "outputs": [
    {
     "name": "stdout",
     "output_type": "stream",
     "text": [
      "Requirement already satisfied: keras in ./venv/lib/python3.6/site-packages (2.3.1)\n",
      "Requirement already satisfied: keras-applications>=1.0.6 in ./venv/lib/python3.6/site-packages (from keras) (1.0.8)\n",
      "Requirement already satisfied: numpy>=1.9.1 in ./venv/lib/python3.6/site-packages (from keras) (1.18.3)\n",
      "Requirement already satisfied: six>=1.9.0 in ./venv/lib/python3.6/site-packages (from keras) (1.14.0)\n",
      "Requirement already satisfied: scipy>=0.14 in ./venv/lib/python3.6/site-packages (from keras) (1.4.1)\n",
      "Requirement already satisfied: h5py in ./venv/lib/python3.6/site-packages (from keras) (2.10.0)\n",
      "Requirement already satisfied: pyyaml in ./venv/lib/python3.6/site-packages (from keras) (5.3.1)\n",
      "Requirement already satisfied: keras-preprocessing>=1.0.5 in ./venv/lib/python3.6/site-packages (from keras) (1.1.0)\n"
     ]
    }
   ],
   "source": [
    "from tensorflow import keras"
   ]
  },
  {
   "cell_type": "code",
   "execution_count": 2,
   "metadata": {},
   "outputs": [],
   "source": [
    "class NeuralNetwork_Simple:\n",
    "    def __init__(self, input_size, output_size):\n",
    "        shape = (1,) + (input_size)\n",
    "        input_layer = keras.layers.Input(shape=shape)\n",
    "        flattened_layer = keras.layers.Flatten()(input_layer)\n",
    "        output_layer = keras.layers.Dense(output_size, activation=\"sigmoid\")(flattened_layer)\n",
    "        self.model = keras.Model(inputs=input_layer, outputs=output_layer)"
   ]
  },
  {
   "cell_type": "code",
   "execution_count": null,
   "metadata": {},
   "outputs": [],
   "source": []
  }
 ],
 "metadata": {
  "kernelspec": {
   "display_name": "Python 3",
   "language": "python",
   "name": "python3"
  },
  "language_info": {
   "codemirror_mode": {
    "name": "ipython",
    "version": 3
   },
   "file_extension": ".py",
   "mimetype": "text/x-python",
   "name": "python",
   "nbconvert_exporter": "python",
   "pygments_lexer": "ipython3",
   "version": "3.6.9"
  },
  "pycharm": {
   "stem_cell": {
    "cell_type": "raw",
    "source": [],
    "metadata": {
     "collapsed": false
    }
   }
  }
 },
 "nbformat": 4,
 "nbformat_minor": 4
}