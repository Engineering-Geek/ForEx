{
 "cells": [
  {
   "cell_type": "code",
   "execution_count": 1,
   "metadata": {},
   "outputs": [],
   "source": [
    "import socketio\n",
    "import fxcmpy\n",
    "import json"
   ]
  },
  {
   "cell_type": "code",
   "execution_count": 2,
   "metadata": {},
   "outputs": [],
   "source": [
    "con = fxcmpy.fxcmpy(config_file=r\"C:\\Users\\Melgiri\\PycharmProjects\\ForEx\\settings\\fxcm.cfg\")"
   ]
  },
  {
   "cell_type": "code",
   "execution_count": 3,
   "metadata": {},
   "outputs": [],
   "source": [
    "data = con.get_candles('EUR/USD', period='m1', number=250)"
   ]
  },
  {
   "cell_type": "code",
   "execution_count": 4,
   "metadata": {},
   "outputs": [
    {
     "data": {
      "text/html": [
       "<div>\n",
       "<style scoped>\n",
       "    .dataframe tbody tr th:only-of-type {\n",
       "        vertical-align: middle;\n",
       "    }\n",
       "\n",
       "    .dataframe tbody tr th {\n",
       "        vertical-align: top;\n",
       "    }\n",
       "\n",
       "    .dataframe thead th {\n",
       "        text-align: right;\n",
       "    }\n",
       "</style>\n",
       "<table border=\"1\" class=\"dataframe\">\n",
       "  <thead>\n",
       "    <tr style=\"text-align: right;\">\n",
       "      <th></th>\n",
       "      <th>bidopen</th>\n",
       "      <th>bidclose</th>\n",
       "      <th>bidhigh</th>\n",
       "      <th>bidlow</th>\n",
       "      <th>askopen</th>\n",
       "      <th>askclose</th>\n",
       "      <th>askhigh</th>\n",
       "      <th>asklow</th>\n",
       "      <th>tickqty</th>\n",
       "    </tr>\n",
       "    <tr>\n",
       "      <th>date</th>\n",
       "      <th></th>\n",
       "      <th></th>\n",
       "      <th></th>\n",
       "      <th></th>\n",
       "      <th></th>\n",
       "      <th></th>\n",
       "      <th></th>\n",
       "      <th></th>\n",
       "      <th></th>\n",
       "    </tr>\n",
       "  </thead>\n",
       "  <tbody>\n",
       "    <tr>\n",
       "      <th>2020-05-03 22:59:00</th>\n",
       "      <td>1.09550</td>\n",
       "      <td>1.09558</td>\n",
       "      <td>1.09559</td>\n",
       "      <td>1.09542</td>\n",
       "      <td>1.09562</td>\n",
       "      <td>1.09570</td>\n",
       "      <td>1.09570</td>\n",
       "      <td>1.09554</td>\n",
       "      <td>164</td>\n",
       "    </tr>\n",
       "    <tr>\n",
       "      <th>2020-05-03 23:00:00</th>\n",
       "      <td>1.09558</td>\n",
       "      <td>1.09541</td>\n",
       "      <td>1.09568</td>\n",
       "      <td>1.09529</td>\n",
       "      <td>1.09570</td>\n",
       "      <td>1.09553</td>\n",
       "      <td>1.09581</td>\n",
       "      <td>1.09541</td>\n",
       "      <td>495</td>\n",
       "    </tr>\n",
       "    <tr>\n",
       "      <th>2020-05-03 23:01:00</th>\n",
       "      <td>1.09541</td>\n",
       "      <td>1.09571</td>\n",
       "      <td>1.09571</td>\n",
       "      <td>1.09541</td>\n",
       "      <td>1.09553</td>\n",
       "      <td>1.09583</td>\n",
       "      <td>1.09583</td>\n",
       "      <td>1.09553</td>\n",
       "      <td>142</td>\n",
       "    </tr>\n",
       "    <tr>\n",
       "      <th>2020-05-03 23:02:00</th>\n",
       "      <td>1.09571</td>\n",
       "      <td>1.09582</td>\n",
       "      <td>1.09583</td>\n",
       "      <td>1.09571</td>\n",
       "      <td>1.09583</td>\n",
       "      <td>1.09594</td>\n",
       "      <td>1.09596</td>\n",
       "      <td>1.09582</td>\n",
       "      <td>163</td>\n",
       "    </tr>\n",
       "    <tr>\n",
       "      <th>2020-05-03 23:03:00</th>\n",
       "      <td>1.09582</td>\n",
       "      <td>1.09587</td>\n",
       "      <td>1.09588</td>\n",
       "      <td>1.09581</td>\n",
       "      <td>1.09594</td>\n",
       "      <td>1.09600</td>\n",
       "      <td>1.09601</td>\n",
       "      <td>1.09593</td>\n",
       "      <td>125</td>\n",
       "    </tr>\n",
       "    <tr>\n",
       "      <th>...</th>\n",
       "      <td>...</td>\n",
       "      <td>...</td>\n",
       "      <td>...</td>\n",
       "      <td>...</td>\n",
       "      <td>...</td>\n",
       "      <td>...</td>\n",
       "      <td>...</td>\n",
       "      <td>...</td>\n",
       "      <td>...</td>\n",
       "    </tr>\n",
       "    <tr>\n",
       "      <th>2020-05-04 03:04:00</th>\n",
       "      <td>1.09442</td>\n",
       "      <td>1.09446</td>\n",
       "      <td>1.09447</td>\n",
       "      <td>1.09439</td>\n",
       "      <td>1.09453</td>\n",
       "      <td>1.09457</td>\n",
       "      <td>1.09459</td>\n",
       "      <td>1.09450</td>\n",
       "      <td>88</td>\n",
       "    </tr>\n",
       "    <tr>\n",
       "      <th>2020-05-04 03:05:00</th>\n",
       "      <td>1.09446</td>\n",
       "      <td>1.09453</td>\n",
       "      <td>1.09454</td>\n",
       "      <td>1.09443</td>\n",
       "      <td>1.09457</td>\n",
       "      <td>1.09465</td>\n",
       "      <td>1.09465</td>\n",
       "      <td>1.09454</td>\n",
       "      <td>56</td>\n",
       "    </tr>\n",
       "    <tr>\n",
       "      <th>2020-05-04 03:06:00</th>\n",
       "      <td>1.09453</td>\n",
       "      <td>1.09456</td>\n",
       "      <td>1.09457</td>\n",
       "      <td>1.09447</td>\n",
       "      <td>1.09465</td>\n",
       "      <td>1.09466</td>\n",
       "      <td>1.09468</td>\n",
       "      <td>1.09458</td>\n",
       "      <td>188</td>\n",
       "    </tr>\n",
       "    <tr>\n",
       "      <th>2020-05-04 03:07:00</th>\n",
       "      <td>1.09456</td>\n",
       "      <td>1.09446</td>\n",
       "      <td>1.09464</td>\n",
       "      <td>1.09442</td>\n",
       "      <td>1.09466</td>\n",
       "      <td>1.09458</td>\n",
       "      <td>1.09476</td>\n",
       "      <td>1.09454</td>\n",
       "      <td>153</td>\n",
       "    </tr>\n",
       "    <tr>\n",
       "      <th>2020-05-04 03:08:00</th>\n",
       "      <td>1.09446</td>\n",
       "      <td>1.09444</td>\n",
       "      <td>1.09457</td>\n",
       "      <td>1.09443</td>\n",
       "      <td>1.09458</td>\n",
       "      <td>1.09454</td>\n",
       "      <td>1.09469</td>\n",
       "      <td>1.09454</td>\n",
       "      <td>154</td>\n",
       "    </tr>\n",
       "  </tbody>\n",
       "</table>\n",
       "<p>250 rows × 9 columns</p>\n",
       "</div>"
      ],
      "text/plain": [
       "                     bidopen  bidclose  bidhigh   bidlow  askopen  askclose  \\\n",
       "date                                                                          \n",
       "2020-05-03 22:59:00  1.09550   1.09558  1.09559  1.09542  1.09562   1.09570   \n",
       "2020-05-03 23:00:00  1.09558   1.09541  1.09568  1.09529  1.09570   1.09553   \n",
       "2020-05-03 23:01:00  1.09541   1.09571  1.09571  1.09541  1.09553   1.09583   \n",
       "2020-05-03 23:02:00  1.09571   1.09582  1.09583  1.09571  1.09583   1.09594   \n",
       "2020-05-03 23:03:00  1.09582   1.09587  1.09588  1.09581  1.09594   1.09600   \n",
       "...                      ...       ...      ...      ...      ...       ...   \n",
       "2020-05-04 03:04:00  1.09442   1.09446  1.09447  1.09439  1.09453   1.09457   \n",
       "2020-05-04 03:05:00  1.09446   1.09453  1.09454  1.09443  1.09457   1.09465   \n",
       "2020-05-04 03:06:00  1.09453   1.09456  1.09457  1.09447  1.09465   1.09466   \n",
       "2020-05-04 03:07:00  1.09456   1.09446  1.09464  1.09442  1.09466   1.09458   \n",
       "2020-05-04 03:08:00  1.09446   1.09444  1.09457  1.09443  1.09458   1.09454   \n",
       "\n",
       "                     askhigh   asklow  tickqty  \n",
       "date                                            \n",
       "2020-05-03 22:59:00  1.09570  1.09554      164  \n",
       "2020-05-03 23:00:00  1.09581  1.09541      495  \n",
       "2020-05-03 23:01:00  1.09583  1.09553      142  \n",
       "2020-05-03 23:02:00  1.09596  1.09582      163  \n",
       "2020-05-03 23:03:00  1.09601  1.09593      125  \n",
       "...                      ...      ...      ...  \n",
       "2020-05-04 03:04:00  1.09459  1.09450       88  \n",
       "2020-05-04 03:05:00  1.09465  1.09454       56  \n",
       "2020-05-04 03:06:00  1.09468  1.09458      188  \n",
       "2020-05-04 03:07:00  1.09476  1.09454      153  \n",
       "2020-05-04 03:08:00  1.09469  1.09454      154  \n",
       "\n",
       "[250 rows x 9 columns]"
      ]
     },
     "execution_count": 4,
     "metadata": {},
     "output_type": "execute_result"
    }
   ],
   "source": [
    "data"
   ]
  },
  {
   "cell_type": "code",
   "execution_count": 5,
   "metadata": {},
   "outputs": [],
   "source": [
    "from pylab import plt\n",
    "plt.style.use('seaborn')\n",
    "%matplotlib inline"
   ]
  },
  {
   "cell_type": "code",
   "execution_count": 6,
   "metadata": {},
   "outputs": [
    {
     "data": {
      "image/png": "[encoded data removed]",
      "text/plain": [
       "<Figure size 720x432 with 1 Axes>"
      ]
     },
     "metadata": {
      "needs_background": "light"
     },
     "output_type": "display_data"
    }
   ],
   "source": [
    "data['askclose'].plot(figsize=(10, 6));"
   ]
  },
  {
   "cell_type": "code",
   "execution_count": 7,
   "metadata": {},
   "outputs": [
    {
     "data": {
      "text/plain": [
       "[1458691]"
      ]
     },
     "execution_count": 7,
     "metadata": {},
     "output_type": "execute_result"
    }
   ],
   "source": [
    "con.get_account_ids()"
   ]
  },
  {
   "cell_type": "code",
   "execution_count": 8,
   "metadata": {},
   "outputs": [
    {
     "data": {
      "text/plain": [
       "1458691"
      ]
     },
     "execution_count": 8,
     "metadata": {},
     "output_type": "execute_result"
    }
   ],
   "source": [
    "con.get_default_account()"
   ]
  },
  {
   "cell_type": "code",
   "execution_count": 9,
   "metadata": {},
   "outputs": [
    {
     "data": {
      "text/plain": [
       "[]"
      ]
     },
     "execution_count": 9,
     "metadata": {},
     "output_type": "execute_result"
    }
   ],
   "source": [
    "con.get_order_ids()"
   ]
  },
  {
   "cell_type": "code",
   "execution_count": 10,
   "metadata": {},
   "outputs": [
    {
     "name": "stdout",
     "output_type": "stream",
     "text": [
      "['EUR/USD', 'USD/JPY', 'GBP/USD', 'USD/CHF', 'EUR/CHF', 'AUD/USD', 'USD/CAD', 'NZD/USD', 'EUR/GBP', 'EUR/JPY', 'GBP/JPY', 'CHF/JPY', 'GBP/CHF', 'EUR/AUD', 'EUR/CAD', 'AUD/CAD', 'AUD/JPY', 'CAD/JPY', 'NZD/JPY', 'GBP/CAD', 'GBP/NZD', 'GBP/AUD', 'AUD/NZD', 'USD/SEK', 'EUR/SEK', 'EUR/NOK', 'USD/NOK', 'USD/MXN', 'AUD/CHF', 'EUR/NZD', 'USD/ZAR', 'USD/HKD', 'ZAR/JPY', 'USD/TRY', 'EUR/TRY', 'NZD/CHF', 'CAD/CHF', 'NZD/CAD', 'TRY/JPY', 'USD/CNH', 'AUS200', 'ESP35', 'FRA40', 'GER30', 'HKG33', 'JPN225', 'NAS100', 'SPX500', 'UK100', 'US30', 'Copper', 'CHN50', 'EUSTX50', 'USDOLLAR', 'US2000', 'USOil', 'UKOil', 'SOYF', 'NGAS', 'WHEATF', 'CORNF', 'Bund', 'XAU/USD', 'XAG/USD', 'EMBasket', 'JPYBasket', 'BTC/USD', 'BCH/USD', 'ETH/USD', 'LTC/USD', 'XRP/USD', 'CryptoMajor', 'EOS/USD', 'XLM/USD', 'ESPORTS', 'BIOTECH', 'CANNABIS', 'FAANG', 'CHN.TECH', 'CHN.ECOMM', 'USEquities']\n"
     ]
    }
   ],
   "source": [
    "instruments = con.get_instruments()\n",
    "print(instruments)"
   ]
  },
  {
   "cell_type": "code",
   "execution_count": 11,
   "metadata": {},
   "outputs": [],
   "source": [
    "# HALLELUJAH!!!!\n",
    "# THATS A LOT OF BIG VARIED DATA TO USE!!!!!"
   ]
  },
  {
   "cell_type": "code",
   "execution_count": 12,
   "metadata": {},
   "outputs": [],
   "source": [
    "import pandas as pd"
   ]
  },
  {
   "cell_type": "code",
   "execution_count": 13,
   "metadata": {},
   "outputs": [],
   "source": [
    "con.subscribe_market_data('EUR/USD')"
   ]
  },
  {
   "cell_type": "code",
   "execution_count": 14,
   "metadata": {},
   "outputs": [
    {
     "data": {
      "text/plain": [
       "['EUR/USD']"
      ]
     },
     "execution_count": 14,
     "metadata": {},
     "output_type": "execute_result"
    }
   ],
   "source": [
    "\n",
    "con.get_subscribed_symbols()"
   ]
  },
  {
   "cell_type": "code",
   "execution_count": 15,
   "metadata": {},
   "outputs": [
    {
     "data": {
      "text/html": [
       "<div>\n",
       "<style scoped>\n",
       "    .dataframe tbody tr th:only-of-type {\n",
       "        vertical-align: middle;\n",
       "    }\n",
       "\n",
       "    .dataframe tbody tr th {\n",
       "        vertical-align: top;\n",
       "    }\n",
       "\n",
       "    .dataframe thead th {\n",
       "        text-align: right;\n",
       "    }\n",
       "</style>\n",
       "<table border=\"1\" class=\"dataframe\">\n",
       "  <thead>\n",
       "    <tr style=\"text-align: right;\">\n",
       "      <th></th>\n",
       "      <th>Bid</th>\n",
       "      <th>Ask</th>\n",
       "      <th>High</th>\n",
       "      <th>Low</th>\n",
       "    </tr>\n",
       "  </thead>\n",
       "  <tbody>\n",
       "    <tr>\n",
       "      <th>2020-05-04 03:09:48.350</th>\n",
       "      <td>1.09441</td>\n",
       "      <td>1.09452</td>\n",
       "      <td>1.09781</td>\n",
       "      <td>1.09429</td>\n",
       "    </tr>\n",
       "    <tr>\n",
       "      <th>2020-05-04 03:09:49.306</th>\n",
       "      <td>1.09438</td>\n",
       "      <td>1.09450</td>\n",
       "      <td>1.09781</td>\n",
       "      <td>1.09429</td>\n",
       "    </tr>\n",
       "    <tr>\n",
       "      <th>2020-05-04 03:10:01.046</th>\n",
       "      <td>1.09439</td>\n",
       "      <td>1.09451</td>\n",
       "      <td>1.09781</td>\n",
       "      <td>1.09429</td>\n",
       "    </tr>\n",
       "    <tr>\n",
       "      <th>2020-05-04 03:10:01.901</th>\n",
       "      <td>1.09440</td>\n",
       "      <td>1.09452</td>\n",
       "      <td>1.09781</td>\n",
       "      <td>1.09429</td>\n",
       "    </tr>\n",
       "    <tr>\n",
       "      <th>2020-05-04 03:10:04.235</th>\n",
       "      <td>1.09440</td>\n",
       "      <td>1.09453</td>\n",
       "      <td>1.09781</td>\n",
       "      <td>1.09429</td>\n",
       "    </tr>\n",
       "    <tr>\n",
       "      <th>2020-05-04 03:10:04.461</th>\n",
       "      <td>1.09441</td>\n",
       "      <td>1.09453</td>\n",
       "      <td>1.09781</td>\n",
       "      <td>1.09429</td>\n",
       "    </tr>\n",
       "    <tr>\n",
       "      <th>2020-05-04 03:10:05.135</th>\n",
       "      <td>1.09442</td>\n",
       "      <td>1.09453</td>\n",
       "      <td>1.09781</td>\n",
       "      <td>1.09429</td>\n",
       "    </tr>\n",
       "    <tr>\n",
       "      <th>2020-05-04 03:10:06.862</th>\n",
       "      <td>1.09441</td>\n",
       "      <td>1.09454</td>\n",
       "      <td>1.09781</td>\n",
       "      <td>1.09429</td>\n",
       "    </tr>\n",
       "    <tr>\n",
       "      <th>2020-05-04 03:10:08.782</th>\n",
       "      <td>1.09441</td>\n",
       "      <td>1.09453</td>\n",
       "      <td>1.09781</td>\n",
       "      <td>1.09429</td>\n",
       "    </tr>\n",
       "  </tbody>\n",
       "</table>\n",
       "</div>"
      ],
      "text/plain": [
       "                             Bid      Ask     High      Low\n",
       "2020-05-04 03:09:48.350  1.09441  1.09452  1.09781  1.09429\n",
       "2020-05-04 03:09:49.306  1.09438  1.09450  1.09781  1.09429\n",
       "2020-05-04 03:10:01.046  1.09439  1.09451  1.09781  1.09429\n",
       "2020-05-04 03:10:01.901  1.09440  1.09452  1.09781  1.09429\n",
       "2020-05-04 03:10:04.235  1.09440  1.09453  1.09781  1.09429\n",
       "2020-05-04 03:10:04.461  1.09441  1.09453  1.09781  1.09429\n",
       "2020-05-04 03:10:05.135  1.09442  1.09453  1.09781  1.09429\n",
       "2020-05-04 03:10:06.862  1.09441  1.09454  1.09781  1.09429\n",
       "2020-05-04 03:10:08.782  1.09441  1.09453  1.09781  1.09429"
      ]
     },
     "execution_count": 15,
     "metadata": {},
     "output_type": "execute_result"
    }
   ],
   "source": [
    "con.get_prices('EUR/USD')"
   ]
  },
  {
   "cell_type": "code",
   "execution_count": 16,
   "metadata": {},
   "outputs": [
    {
     "data": {
      "text/plain": [
       "Bid     1.09436\n",
       "Ask     1.09448\n",
       "High    1.09781\n",
       "Low     1.09429\n",
       "Name: 2020-05-04 03:10:17.865000, dtype: float64"
      ]
     },
     "execution_count": 16,
     "metadata": {},
     "output_type": "execute_result"
    }
   ],
   "source": [
    "con.get_last_price('EUR/USD')"
   ]
  },
  {
   "cell_type": "code",
   "execution_count": 17,
   "metadata": {},
   "outputs": [],
   "source": [
    "con.unsubscribe_market_data('EUR/USD')"
   ]
  },
  {
   "cell_type": "code",
   "execution_count": 18,
   "metadata": {},
   "outputs": [
    {
     "data": {
      "text/html": [
       "<div>\n",
       "<style scoped>\n",
       "    .dataframe tbody tr th:only-of-type {\n",
       "        vertical-align: middle;\n",
       "    }\n",
       "\n",
       "    .dataframe tbody tr th {\n",
       "        vertical-align: top;\n",
       "    }\n",
       "\n",
       "    .dataframe thead th {\n",
       "        text-align: right;\n",
       "    }\n",
       "</style>\n",
       "<table border=\"1\" class=\"dataframe\">\n",
       "  <thead>\n",
       "    <tr style=\"text-align: right;\">\n",
       "      <th></th>\n",
       "      <th>Bid</th>\n",
       "      <th>Ask</th>\n",
       "      <th>High</th>\n",
       "      <th>Low</th>\n",
       "    </tr>\n",
       "  </thead>\n",
       "  <tbody>\n",
       "  </tbody>\n",
       "</table>\n",
       "</div>"
      ],
      "text/plain": [
       "Empty DataFrame\n",
       "Columns: [Bid, Ask, High, Low]\n",
       "Index: []"
      ]
     },
     "execution_count": 18,
     "metadata": {},
     "output_type": "execute_result"
    }
   ],
   "source": [
    "con.get_prices('EUR/USD')"
   ]
  },
  {
   "cell_type": "code",
   "execution_count": 19,
   "metadata": {},
   "outputs": [
    {
     "name": "stdout",
     "output_type": "stream",
     "text": [
      "  2 | EUR/USD | 2020-05-04 03:11:17.034000, 1.0944, 1.0945099999999999, 1.09781, 1.09429\n",
      "  3 | EUR/USD | 2020-05-04 03:11:17.603000, 1.09439, 1.0945099999999999, 1.09781, 1.09429\n",
      "  4 | EUR/USD | 2020-05-04 03:11:18.913000, 1.0944, 1.0945099999999999, 1.09781, 1.09429\n",
      "  5 | EUR/USD | 2020-05-04 03:11:25.303000, 1.0943800000000001, 1.09449, 1.09781, 1.09429\n",
      "  6 | EUR/USD | 2020-05-04 03:11:26.611000, 1.09437, 1.09448, 1.09781, 1.09429\n",
      "  7 | EUR/USD | 2020-05-04 03:11:31.052000, 1.09437, 1.09449, 1.09781, 1.09429\n",
      "  8 | EUR/USD | 2020-05-04 03:11:41.602000, 1.0943800000000001, 1.0945099999999999, 1.09781, 1.09429\n",
      "  9 | EUR/USD | 2020-05-04 03:11:42.958000, 1.09439, 1.0945099999999999, 1.09781, 1.09429\n"
     ]
    }
   ],
   "source": [
    "\n",
    "def print_data(data, dataframe):\n",
    "    print('%3d | %s | %s, %s, %s, %s, %s'\n",
    "          % (len(dataframe), data['Symbol'],\n",
    "             pd.to_datetime(int(data['Updated']), unit='ms'),\n",
    "             data['Rates'][0], data['Rates'][1], data['Rates'][2],\n",
    "             data['Rates'][3]))\n",
    "con.subscribe_market_data('EUR/USD', (print_data,))"
   ]
  },
  {
   "cell_type": "code",
   "execution_count": 20,
   "metadata": {},
   "outputs": [],
   "source": [
    "\n",
    "con.unsubscribe_market_data('EUR/USD')"
   ]
  },
  {
   "cell_type": "code",
   "execution_count": 21,
   "metadata": {},
   "outputs": [
    {
     "data": {
      "text/html": [
       "<div>\n",
       "<style scoped>\n",
       "    .dataframe tbody tr th:only-of-type {\n",
       "        vertical-align: middle;\n",
       "    }\n",
       "\n",
       "    .dataframe tbody tr th {\n",
       "        vertical-align: top;\n",
       "    }\n",
       "\n",
       "    .dataframe thead th {\n",
       "        text-align: right;\n",
       "    }\n",
       "</style>\n",
       "<table border=\"1\" class=\"dataframe\">\n",
       "  <thead>\n",
       "    <tr style=\"text-align: right;\">\n",
       "      <th></th>\n",
       "      <th>0</th>\n",
       "    </tr>\n",
       "  </thead>\n",
       "  <tbody>\n",
       "    <tr>\n",
       "      <th>t</th>\n",
       "      <td>6</td>\n",
       "    </tr>\n",
       "    <tr>\n",
       "      <th>ratePrecision</th>\n",
       "      <td>0</td>\n",
       "    </tr>\n",
       "    <tr>\n",
       "      <th>accountId</th>\n",
       "      <td>1458691</td>\n",
       "    </tr>\n",
       "    <tr>\n",
       "      <th>balance</th>\n",
       "      <td>20000</td>\n",
       "    </tr>\n",
       "    <tr>\n",
       "      <th>usdMr</th>\n",
       "      <td>0</td>\n",
       "    </tr>\n",
       "    <tr>\n",
       "      <th>mc</th>\n",
       "      <td>N</td>\n",
       "    </tr>\n",
       "    <tr>\n",
       "      <th>mcDate</th>\n",
       "      <td></td>\n",
       "    </tr>\n",
       "    <tr>\n",
       "      <th>accountName</th>\n",
       "      <td>1001458691</td>\n",
       "    </tr>\n",
       "    <tr>\n",
       "      <th>usdMr3</th>\n",
       "      <td>0</td>\n",
       "    </tr>\n",
       "    <tr>\n",
       "      <th>hedging</th>\n",
       "      <td>Y</td>\n",
       "    </tr>\n",
       "    <tr>\n",
       "      <th>usableMargin3</th>\n",
       "      <td>20000</td>\n",
       "    </tr>\n",
       "    <tr>\n",
       "      <th>usableMarginPerc</th>\n",
       "      <td>100</td>\n",
       "    </tr>\n",
       "    <tr>\n",
       "      <th>usableMargin3Perc</th>\n",
       "      <td>100</td>\n",
       "    </tr>\n",
       "    <tr>\n",
       "      <th>equity</th>\n",
       "      <td>20000</td>\n",
       "    </tr>\n",
       "    <tr>\n",
       "      <th>usableMargin</th>\n",
       "      <td>20000</td>\n",
       "    </tr>\n",
       "    <tr>\n",
       "      <th>bus</th>\n",
       "      <td>1000</td>\n",
       "    </tr>\n",
       "    <tr>\n",
       "      <th>dayPL</th>\n",
       "      <td>0</td>\n",
       "    </tr>\n",
       "    <tr>\n",
       "      <th>grossPL</th>\n",
       "      <td>0</td>\n",
       "    </tr>\n",
       "  </tbody>\n",
       "</table>\n",
       "</div>"
      ],
      "text/plain": [
       "                            0\n",
       "t                           6\n",
       "ratePrecision               0\n",
       "accountId             1458691\n",
       "balance                 20000\n",
       "usdMr                       0\n",
       "mc                          N\n",
       "mcDate                       \n",
       "accountName        1001458691\n",
       "usdMr3                      0\n",
       "hedging                     Y\n",
       "usableMargin3           20000\n",
       "usableMarginPerc          100\n",
       "usableMargin3Perc         100\n",
       "equity                  20000\n",
       "usableMargin            20000\n",
       "bus                      1000\n",
       "dayPL                       0\n",
       "grossPL                     0"
      ]
     },
     "execution_count": 21,
     "metadata": {},
     "output_type": "execute_result"
    }
   ],
   "source": [
    "con.get_accounts().T"
   ]
  },
  {
   "cell_type": "code",
   "execution_count": 22,
   "metadata": {},
   "outputs": [],
   "source": [
    "import datetime as dt"
   ]
  },
  {
   "cell_type": "code",
   "execution_count": 23,
   "metadata": {},
   "outputs": [
    {
     "data": {
      "text/html": [
       "<div>\n",
       "<style scoped>\n",
       "    .dataframe tbody tr th:only-of-type {\n",
       "        vertical-align: middle;\n",
       "    }\n",
       "\n",
       "    .dataframe tbody tr th {\n",
       "        vertical-align: top;\n",
       "    }\n",
       "\n",
       "    .dataframe thead th {\n",
       "        text-align: right;\n",
       "    }\n",
       "</style>\n",
       "<table border=\"1\" class=\"dataframe\">\n",
       "  <thead>\n",
       "    <tr style=\"text-align: right;\">\n",
       "      <th></th>\n",
       "    </tr>\n",
       "  </thead>\n",
       "  <tbody>\n",
       "  </tbody>\n",
       "</table>\n",
       "</div>"
      ],
      "text/plain": [
       "Empty DataFrame\n",
       "Columns: []\n",
       "Index: []"
      ]
     },
     "execution_count": 23,
     "metadata": {},
     "output_type": "execute_result"
    }
   ],
   "source": [
    "con.get_open_positions().T"
   ]
  },
  {
   "cell_type": "code",
   "execution_count": 24,
   "metadata": {},
   "outputs": [],
   "source": [
    "order = con.create_market_sell_order('EUR/USD', 100)"
   ]
  },
  {
   "cell_type": "code",
   "execution_count": 25,
   "metadata": {},
   "outputs": [],
   "source": [
    "order = con.create_market_buy_order('USD/JPY', 200)"
   ]
  },
  {
   "cell_type": "code",
   "execution_count": 26,
   "metadata": {},
   "outputs": [
    {
     "data": {
      "text/html": [
       "<div>\n",
       "<style scoped>\n",
       "    .dataframe tbody tr th:only-of-type {\n",
       "        vertical-align: middle;\n",
       "    }\n",
       "\n",
       "    .dataframe tbody tr th {\n",
       "        vertical-align: top;\n",
       "    }\n",
       "\n",
       "    .dataframe thead th {\n",
       "        text-align: right;\n",
       "    }\n",
       "</style>\n",
       "<table border=\"1\" class=\"dataframe\">\n",
       "  <thead>\n",
       "    <tr style=\"text-align: right;\">\n",
       "      <th></th>\n",
       "      <th>0</th>\n",
       "      <th>1</th>\n",
       "    </tr>\n",
       "  </thead>\n",
       "  <tbody>\n",
       "    <tr>\n",
       "      <th>t</th>\n",
       "      <td>1</td>\n",
       "      <td>1</td>\n",
       "    </tr>\n",
       "    <tr>\n",
       "      <th>ratePrecision</th>\n",
       "      <td>5</td>\n",
       "      <td>3</td>\n",
       "    </tr>\n",
       "    <tr>\n",
       "      <th>tradeId</th>\n",
       "      <td>67242221</td>\n",
       "      <td>67242222</td>\n",
       "    </tr>\n",
       "    <tr>\n",
       "      <th>accountName</th>\n",
       "      <td>1001458691</td>\n",
       "      <td>1001458691</td>\n",
       "    </tr>\n",
       "    <tr>\n",
       "      <th>accountId</th>\n",
       "      <td>1458691</td>\n",
       "      <td>1458691</td>\n",
       "    </tr>\n",
       "    <tr>\n",
       "      <th>roll</th>\n",
       "      <td>0</td>\n",
       "      <td>0</td>\n",
       "    </tr>\n",
       "    <tr>\n",
       "      <th>com</th>\n",
       "      <td>0</td>\n",
       "      <td>0</td>\n",
       "    </tr>\n",
       "    <tr>\n",
       "      <th>open</th>\n",
       "      <td>1.09449</td>\n",
       "      <td>106.728</td>\n",
       "    </tr>\n",
       "    <tr>\n",
       "      <th>valueDate</th>\n",
       "      <td></td>\n",
       "      <td></td>\n",
       "    </tr>\n",
       "    <tr>\n",
       "      <th>grossPL</th>\n",
       "      <td>-6</td>\n",
       "      <td>-24.364</td>\n",
       "    </tr>\n",
       "    <tr>\n",
       "      <th>close</th>\n",
       "      <td>1.09455</td>\n",
       "      <td>106.715</td>\n",
       "    </tr>\n",
       "    <tr>\n",
       "      <th>visiblePL</th>\n",
       "      <td>-0.6</td>\n",
       "      <td>-1.3</td>\n",
       "    </tr>\n",
       "    <tr>\n",
       "      <th>isDisabled</th>\n",
       "      <td>False</td>\n",
       "      <td>False</td>\n",
       "    </tr>\n",
       "    <tr>\n",
       "      <th>currency</th>\n",
       "      <td>EUR/USD</td>\n",
       "      <td>USD/JPY</td>\n",
       "    </tr>\n",
       "    <tr>\n",
       "      <th>isBuy</th>\n",
       "      <td>False</td>\n",
       "      <td>True</td>\n",
       "    </tr>\n",
       "    <tr>\n",
       "      <th>amountK</th>\n",
       "      <td>100</td>\n",
       "      <td>200</td>\n",
       "    </tr>\n",
       "    <tr>\n",
       "      <th>currencyPoint</th>\n",
       "      <td>10</td>\n",
       "      <td>18.7403</td>\n",
       "    </tr>\n",
       "    <tr>\n",
       "      <th>time</th>\n",
       "      <td>05042020031404</td>\n",
       "      <td>05042020031410</td>\n",
       "    </tr>\n",
       "    <tr>\n",
       "      <th>usedMargin</th>\n",
       "      <td>300</td>\n",
       "      <td>500</td>\n",
       "    </tr>\n",
       "    <tr>\n",
       "      <th>stop</th>\n",
       "      <td>0</td>\n",
       "      <td>0</td>\n",
       "    </tr>\n",
       "    <tr>\n",
       "      <th>stopMove</th>\n",
       "      <td>0</td>\n",
       "      <td>0</td>\n",
       "    </tr>\n",
       "    <tr>\n",
       "      <th>limit</th>\n",
       "      <td>0</td>\n",
       "      <td>0</td>\n",
       "    </tr>\n",
       "  </tbody>\n",
       "</table>\n",
       "</div>"
      ],
      "text/plain": [
       "                            0               1\n",
       "t                           1               1\n",
       "ratePrecision               5               3\n",
       "tradeId              67242221        67242222\n",
       "accountName        1001458691      1001458691\n",
       "accountId             1458691         1458691\n",
       "roll                        0               0\n",
       "com                         0               0\n",
       "open                  1.09449         106.728\n",
       "valueDate                                    \n",
       "grossPL                    -6         -24.364\n",
       "close                 1.09455         106.715\n",
       "visiblePL                -0.6            -1.3\n",
       "isDisabled              False           False\n",
       "currency              EUR/USD         USD/JPY\n",
       "isBuy                   False            True\n",
       "amountK                   100             200\n",
       "currencyPoint              10         18.7403\n",
       "time           05042020031404  05042020031410\n",
       "usedMargin                300             500\n",
       "stop                        0               0\n",
       "stopMove                    0               0\n",
       "limit                       0               0"
      ]
     },
     "execution_count": 26,
     "metadata": {},
     "output_type": "execute_result"
    }
   ],
   "source": [
    "con.get_open_positions().T"
   ]
  },
  {
   "cell_type": "code",
   "execution_count": 27,
   "metadata": {},
   "outputs": [
    {
     "data": {
      "text/plain": [
       "0    67242221\n",
       "1    67242222\n",
       "Name: tradeId, dtype: object"
      ]
     },
     "execution_count": 27,
     "metadata": {},
     "output_type": "execute_result"
    }
   ],
   "source": [
    "con.get_open_positions()['tradeId']"
   ]
  },
  {
   "cell_type": "code",
   "execution_count": 28,
   "metadata": {},
   "outputs": [],
   "source": [
    "tradeId = con.get_open_trade_ids()[-1]"
   ]
  },
  {
   "cell_type": "code",
   "execution_count": 29,
   "metadata": {},
   "outputs": [],
   "source": [
    "con.change_trade_stop_limit(tradeId, is_in_pips=False,\n",
    "                            is_stop=False, rate=115)"
   ]
  },
  {
   "cell_type": "code",
   "execution_count": 30,
   "metadata": {},
   "outputs": [],
   "source": [
    "con.close_trade(trade_id=tradeId, amount=1000)"
   ]
  },
  {
   "cell_type": "code",
   "execution_count": 33,
   "metadata": {},
   "outputs": [
    {
     "data": {
      "text/html": [
       "<div>\n",
       "<style scoped>\n",
       "    .dataframe tbody tr th:only-of-type {\n",
       "        vertical-align: middle;\n",
       "    }\n",
       "\n",
       "    .dataframe tbody tr th {\n",
       "        vertical-align: top;\n",
       "    }\n",
       "\n",
       "    .dataframe thead th {\n",
       "        text-align: right;\n",
       "    }\n",
       "</style>\n",
       "<table border=\"1\" class=\"dataframe\">\n",
       "  <thead>\n",
       "    <tr style=\"text-align: right;\">\n",
       "      <th></th>\n",
       "    </tr>\n",
       "  </thead>\n",
       "  <tbody>\n",
       "  </tbody>\n",
       "</table>\n",
       "</div>"
      ],
      "text/plain": [
       "Empty DataFrame\n",
       "Columns: []\n",
       "Index: []"
      ]
     },
     "execution_count": 33,
     "metadata": {},
     "output_type": "execute_result"
    }
   ],
   "source": [
    "con.get_open_positions().T"
   ]
  },
  {
   "cell_type": "code",
   "execution_count": 32,
   "metadata": {},
   "outputs": [],
   "source": [
    "con.close_all()"
   ]
  },
  {
   "cell_type": "code",
   "execution_count": 3,
   "metadata": {},
   "outputs": [],
   "source": [
    "df = con.get_accounts_summary()"
   ]
  },
  {
   "cell_type": "code",
   "execution_count": 4,
   "metadata": {},
   "outputs": [
    {
     "data": {
      "text/plain": [
       "0    19973.5\n",
       "Name: balance, dtype: float64"
      ]
     },
     "execution_count": 4,
     "metadata": {},
     "output_type": "execute_result"
    }
   ],
   "source": [
    "df.balance"
   ]
  },
  {
   "cell_type": "code",
   "execution_count": 8,
   "metadata": {},
   "outputs": [],
   "source": [
    "order1 = con.create_market_buy_order(\"EUR/USD\", 100)"
   ]
  },
  {
   "cell_type": "code",
   "execution_count": 11,
   "metadata": {},
   "outputs": [
    {
     "data": {
      "text/plain": [
       "<fxcmpy.fxcmpy_order.fxcmpy_order at 0x108450d6278>"
      ]
     },
     "execution_count": 11,
     "metadata": {},
     "output_type": "execute_result"
    }
   ],
   "source": [
    "con.create_market_sell_order(\"EUR/USD\", 100)"
   ]
  },
  {
   "cell_type": "code",
   "execution_count": 13,
   "metadata": {},
   "outputs": [
    {
     "data": {
      "text/plain": [
       "0    19973.5\n",
       "Name: balance, dtype: float64"
      ]
     },
     "execution_count": 13,
     "metadata": {},
     "output_type": "execute_result"
    }
   ],
   "source": [
    "df.balance"
   ]
  },
  {
   "cell_type": "code",
   "execution_count": 16,
   "metadata": {},
   "outputs": [
    {
     "data": {
      "text/html": [
       "<div>\n",
       "<style scoped>\n",
       "    .dataframe tbody tr th:only-of-type {\n",
       "        vertical-align: middle;\n",
       "    }\n",
       "\n",
       "    .dataframe tbody tr th {\n",
       "        vertical-align: top;\n",
       "    }\n",
       "\n",
       "    .dataframe thead th {\n",
       "        text-align: right;\n",
       "    }\n",
       "</style>\n",
       "<table border=\"1\" class=\"dataframe\">\n",
       "  <thead>\n",
       "    <tr style=\"text-align: right;\">\n",
       "      <th></th>\n",
       "      <th>t</th>\n",
       "      <th>ratePrecision</th>\n",
       "      <th>tradeId</th>\n",
       "      <th>accountName</th>\n",
       "      <th>accountId</th>\n",
       "      <th>roll</th>\n",
       "      <th>com</th>\n",
       "      <th>open</th>\n",
       "      <th>valueDate</th>\n",
       "      <th>grossPL</th>\n",
       "      <th>...</th>\n",
       "      <th>isDisabled</th>\n",
       "      <th>currency</th>\n",
       "      <th>isBuy</th>\n",
       "      <th>amountK</th>\n",
       "      <th>currencyPoint</th>\n",
       "      <th>time</th>\n",
       "      <th>usedMargin</th>\n",
       "      <th>stop</th>\n",
       "      <th>stopMove</th>\n",
       "      <th>limit</th>\n",
       "    </tr>\n",
       "  </thead>\n",
       "  <tbody>\n",
       "    <tr>\n",
       "      <th>0</th>\n",
       "      <td>1</td>\n",
       "      <td>5</td>\n",
       "      <td>67257664</td>\n",
       "      <td>1001458691</td>\n",
       "      <td>1458691</td>\n",
       "      <td>0</td>\n",
       "      <td>0</td>\n",
       "      <td>1.09004</td>\n",
       "      <td></td>\n",
       "      <td>10</td>\n",
       "      <td>...</td>\n",
       "      <td>False</td>\n",
       "      <td>EUR/USD</td>\n",
       "      <td>True</td>\n",
       "      <td>100</td>\n",
       "      <td>10</td>\n",
       "      <td>05042020174635</td>\n",
       "      <td>300</td>\n",
       "      <td>0</td>\n",
       "      <td>0</td>\n",
       "      <td>0</td>\n",
       "    </tr>\n",
       "    <tr>\n",
       "      <th>1</th>\n",
       "      <td>1</td>\n",
       "      <td>5</td>\n",
       "      <td>67257682</td>\n",
       "      <td>1001458691</td>\n",
       "      <td>1458691</td>\n",
       "      <td>0</td>\n",
       "      <td>0</td>\n",
       "      <td>1.08992</td>\n",
       "      <td></td>\n",
       "      <td>-33</td>\n",
       "      <td>...</td>\n",
       "      <td>False</td>\n",
       "      <td>EUR/USD</td>\n",
       "      <td>False</td>\n",
       "      <td>100</td>\n",
       "      <td>10</td>\n",
       "      <td>05042020174701</td>\n",
       "      <td>300</td>\n",
       "      <td>0</td>\n",
       "      <td>0</td>\n",
       "      <td>0</td>\n",
       "    </tr>\n",
       "    <tr>\n",
       "      <th>2</th>\n",
       "      <td>1</td>\n",
       "      <td>5</td>\n",
       "      <td>67257687</td>\n",
       "      <td>1001458691</td>\n",
       "      <td>1458691</td>\n",
       "      <td>0</td>\n",
       "      <td>0</td>\n",
       "      <td>1.09018</td>\n",
       "      <td></td>\n",
       "      <td>-4</td>\n",
       "      <td>...</td>\n",
       "      <td>False</td>\n",
       "      <td>EUR/USD</td>\n",
       "      <td>True</td>\n",
       "      <td>100</td>\n",
       "      <td>10</td>\n",
       "      <td>05042020174749</td>\n",
       "      <td>300</td>\n",
       "      <td>0</td>\n",
       "      <td>0</td>\n",
       "      <td>0</td>\n",
       "    </tr>\n",
       "    <tr>\n",
       "      <th>3</th>\n",
       "      <td>1</td>\n",
       "      <td>5</td>\n",
       "      <td>67257690</td>\n",
       "      <td>1001458691</td>\n",
       "      <td>1458691</td>\n",
       "      <td>0</td>\n",
       "      <td>0</td>\n",
       "      <td>1.09013</td>\n",
       "      <td></td>\n",
       "      <td>-12</td>\n",
       "      <td>...</td>\n",
       "      <td>False</td>\n",
       "      <td>EUR/USD</td>\n",
       "      <td>False</td>\n",
       "      <td>100</td>\n",
       "      <td>10</td>\n",
       "      <td>05042020174826</td>\n",
       "      <td>300</td>\n",
       "      <td>0</td>\n",
       "      <td>0</td>\n",
       "      <td>0</td>\n",
       "    </tr>\n",
       "  </tbody>\n",
       "</table>\n",
       "<p>4 rows × 22 columns</p>\n",
       "</div>"
      ],
      "text/plain": [
       "   t  ratePrecision   tradeId accountName accountId  roll  com     open  \\\n",
       "0  1              5  67257664  1001458691   1458691     0    0  1.09004   \n",
       "1  1              5  67257682  1001458691   1458691     0    0  1.08992   \n",
       "2  1              5  67257687  1001458691   1458691     0    0  1.09018   \n",
       "3  1              5  67257690  1001458691   1458691     0    0  1.09013   \n",
       "\n",
       "  valueDate  grossPL  ...  isDisabled  currency  isBuy amountK  currencyPoint  \\\n",
       "0                 10  ...       False   EUR/USD   True     100             10   \n",
       "1                -33  ...       False   EUR/USD  False     100             10   \n",
       "2                 -4  ...       False   EUR/USD   True     100             10   \n",
       "3                -12  ...       False   EUR/USD  False     100             10   \n",
       "\n",
       "             time  usedMargin stop  stopMove  limit  \n",
       "0  05042020174635         300    0         0      0  \n",
       "1  05042020174701         300    0         0      0  \n",
       "2  05042020174749         300    0         0      0  \n",
       "3  05042020174826         300    0         0      0  \n",
       "\n",
       "[4 rows x 22 columns]"
      ]
     },
     "execution_count": 16,
     "metadata": {},
     "output_type": "execute_result"
    }
   ],
   "source": [
    "con.get_open_positions()"
   ]
  },
  {
   "cell_type": "code",
   "execution_count": 17,
   "metadata": {},
   "outputs": [
    {
     "data": {
      "text/html": [
       "<div>\n",
       "<style scoped>\n",
       "    .dataframe tbody tr th:only-of-type {\n",
       "        vertical-align: middle;\n",
       "    }\n",
       "\n",
       "    .dataframe tbody tr th {\n",
       "        vertical-align: top;\n",
       "    }\n",
       "\n",
       "    .dataframe thead th {\n",
       "        text-align: right;\n",
       "    }\n",
       "</style>\n",
       "<table border=\"1\" class=\"dataframe\">\n",
       "  <thead>\n",
       "    <tr style=\"text-align: right;\">\n",
       "      <th></th>\n",
       "      <th>t</th>\n",
       "      <th>ratePrecision</th>\n",
       "      <th>tradeId</th>\n",
       "      <th>accountName</th>\n",
       "      <th>roll</th>\n",
       "      <th>com</th>\n",
       "      <th>open</th>\n",
       "      <th>valueDate</th>\n",
       "      <th>grossPL</th>\n",
       "      <th>close</th>\n",
       "      <th>visiblePL</th>\n",
       "      <th>currency</th>\n",
       "      <th>isBuy</th>\n",
       "      <th>amountK</th>\n",
       "      <th>currencyPoint</th>\n",
       "      <th>openTime</th>\n",
       "      <th>closeTime</th>\n",
       "    </tr>\n",
       "  </thead>\n",
       "  <tbody>\n",
       "    <tr>\n",
       "      <th>0</th>\n",
       "      <td>2</td>\n",
       "      <td>3</td>\n",
       "      <td>67242222</td>\n",
       "      <td>1001458691</td>\n",
       "      <td>0</td>\n",
       "      <td>0</td>\n",
       "      <td>106.72800</td>\n",
       "      <td></td>\n",
       "      <td>-7.5</td>\n",
       "      <td>106.72400</td>\n",
       "      <td>-0.4</td>\n",
       "      <td>USD/JPY</td>\n",
       "      <td>True</td>\n",
       "      <td>200</td>\n",
       "      <td>18.7315</td>\n",
       "      <td>05042020031410</td>\n",
       "      <td>05042020031721</td>\n",
       "    </tr>\n",
       "    <tr>\n",
       "      <th>1</th>\n",
       "      <td>2</td>\n",
       "      <td>5</td>\n",
       "      <td>67242221</td>\n",
       "      <td>1001458691</td>\n",
       "      <td>0</td>\n",
       "      <td>0</td>\n",
       "      <td>1.09449</td>\n",
       "      <td></td>\n",
       "      <td>-19.0</td>\n",
       "      <td>1.09468</td>\n",
       "      <td>-1.9</td>\n",
       "      <td>EUR/USD</td>\n",
       "      <td>False</td>\n",
       "      <td>100</td>\n",
       "      <td>10.0000</td>\n",
       "      <td>05042020031404</td>\n",
       "      <td>05042020031721</td>\n",
       "    </tr>\n",
       "  </tbody>\n",
       "</table>\n",
       "</div>"
      ],
      "text/plain": [
       "   t  ratePrecision   tradeId accountName  roll  com       open valueDate  \\\n",
       "0  2              3  67242222  1001458691     0    0  106.72800             \n",
       "1  2              5  67242221  1001458691     0    0    1.09449             \n",
       "\n",
       "   grossPL      close  visiblePL currency  isBuy  amountK  currencyPoint  \\\n",
       "0     -7.5  106.72400       -0.4  USD/JPY   True      200        18.7315   \n",
       "1    -19.0    1.09468       -1.9  EUR/USD  False      100        10.0000   \n",
       "\n",
       "         openTime       closeTime  \n",
       "0  05042020031410  05042020031721  \n",
       "1  05042020031404  05042020031721  "
      ]
     },
     "execution_count": 17,
     "metadata": {},
     "output_type": "execute_result"
    }
   ],
   "source": [
    "con.get_closed_positions()"
   ]
  },
  {
   "cell_type": "code",
   "execution_count": null,
   "metadata": {},
   "outputs": [],
   "source": []
  }
 ],
 "metadata": {
  "kernelspec": {
   "display_name": "Python 3",
   "language": "python",
   "name": "python3"
  },
  "language_info": {
   "codemirror_mode": {
    "name": "ipython",
    "version": 3
   },
   "file_extension": ".py",
   "mimetype": "text/x-python",
   "name": "python",
   "nbconvert_exporter": "python",
   "pygments_lexer": "ipython3",
   "version": "3.6.8"
  }
 },
 "nbformat": 4,
 "nbformat_minor": 4
}
